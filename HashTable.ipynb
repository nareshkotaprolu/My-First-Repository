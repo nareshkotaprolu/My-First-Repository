{
 "cells": [
  {
   "cell_type": "code",
   "execution_count": 44,
   "metadata": {},
   "outputs": [
    {
     "name": "stdout",
     "output_type": "stream",
     "text": [
      "Jan 1 27\n",
      "Jan 2 31\n",
      "Jan 3 23\n",
      "Jan 4 34\n",
      "Jan 5 37\n",
      "Jan 6 38\n",
      "Jan 7 29\n",
      "Jan 8 30\n",
      "Jan 9 35\n",
      "Jan 10 30\n",
      "31.285714285714285\n",
      "38\n",
      "34\n",
      "35\n"
     ]
    },
    {
     "ename": "TypeError",
     "evalue": "'int' object is not callable",
     "output_type": "error",
     "traceback": [
      "\u001b[1;31m---------------------------------------------------------------------------\u001b[0m",
      "\u001b[1;31mTypeError\u001b[0m                                 Traceback (most recent call last)",
      "\u001b[1;32m<ipython-input-44-35db9f70a9af>\u001b[0m in \u001b[0;36m<module>\u001b[1;34m\u001b[0m\n\u001b[0;32m     25\u001b[0m \u001b[0mlist\u001b[0m\u001b[1;33m\u001b[0m\u001b[1;33m\u001b[0m\u001b[0m\n\u001b[0;32m     26\u001b[0m \u001b[0mlen\u001b[0m\u001b[1;33m(\u001b[0m\u001b[0mlist\u001b[0m\u001b[1;33m)\u001b[0m\u001b[1;33m\u001b[0m\u001b[1;33m\u001b[0m\u001b[0m\n\u001b[1;32m---> 27\u001b[1;33m \u001b[0msum\u001b[0m\u001b[1;33m(\u001b[0m\u001b[0mlist\u001b[0m\u001b[1;33m)\u001b[0m\u001b[1;33m\u001b[0m\u001b[1;33m\u001b[0m\u001b[0m\n\u001b[0m",
      "\u001b[1;31mTypeError\u001b[0m: 'int' object is not callable"
     ]
    }
   ],
   "source": [
    "dict={}\n",
    "list=[]\n",
    "with open(\"C:\\\\Naresh\\\\input.txt\",\"r\") as f:\n",
    "    for line in f:\n",
    "        #print(line)\n",
    "        key=line.split(\",\")[0]\n",
    "        value=line.split(\",\")[1]\n",
    "        dict[key]=value.replace(\"\\n\",\"\")\n",
    "        list.append((value))\n",
    "        \n",
    "sum=0\n",
    "max_temp=0\n",
    "for (key,value) in dict.items():\n",
    "    print(key,value)\n",
    "    if int(key.split(\" \")[1]) <=7:\n",
    "        sum+=int(value)\n",
    "    if max_temp<int(value):\n",
    "        max_temp=int(value)        \n",
    "        \n",
    "average=(sum/7)\n",
    "print(average)\n",
    "print(max_temp)\n",
    "print(dict['Jan 4'])\n",
    "print(dict['Jan 9'])\n",
    "list\n",
    "len(list)\n",
    "sum(list)"
   ]
  },
  {
   "cell_type": "code",
   "execution_count": 61,
   "metadata": {},
   "outputs": [],
   "source": [
    "#3 \n",
    "#poem.txt Contains famous poem \"Road not taken\" by poet Robert Frost. You have to read this file in python and print every word and its count as show below. Think about the best data structure that you can use to solve this problem and figure out why you selected that specific data structure.\n",
    "# 'diverged': 2,\n",
    "# 'in': 3,\n",
    "# 'I': 8\n",
    "wordDict={}\n",
    "with open(\"C:\\\\Naresh\\\\input2.txt\",\"r\") as f:\n",
    "    for line in f:\n",
    "        words=line.split(\" \")\n",
    "        for word in words:\n",
    "            if word in wordDict:\n",
    "                wordDict[word]= wordDict[word]+1\n",
    "            else:\n",
    "                wordDict[word]=1\n",
    "            \n",
    "\n"
   ]
  },
  {
   "cell_type": "code",
   "execution_count": 84,
   "metadata": {},
   "outputs": [
    {
     "ename": "TypeError",
     "evalue": "values() takes no arguments (1 given)",
     "output_type": "error",
     "traceback": [
      "\u001b[1;31m---------------------------------------------------------------------------\u001b[0m",
      "\u001b[1;31mTypeError\u001b[0m                                 Traceback (most recent call last)",
      "\u001b[1;32m<ipython-input-84-9eef478adcaa>\u001b[0m in \u001b[0;36m<module>\u001b[1;34m\u001b[0m\n\u001b[1;32m----> 1\u001b[1;33m \u001b[0msortedkeys\u001b[0m\u001b[1;33m=\u001b[0m\u001b[0msorted\u001b[0m\u001b[1;33m(\u001b[0m\u001b[0mwordDict\u001b[0m\u001b[1;33m,\u001b[0m\u001b[0mkey\u001b[0m\u001b[1;33m=\u001b[0m\u001b[0mwordDict\u001b[0m\u001b[1;33m.\u001b[0m\u001b[0mvalues\u001b[0m\u001b[1;33m)\u001b[0m\u001b[1;33m\u001b[0m\u001b[1;33m\u001b[0m\u001b[0m\n\u001b[0m\u001b[0;32m      2\u001b[0m \u001b[0mprint\u001b[0m\u001b[1;33m(\u001b[0m\u001b[0msortedkeys\u001b[0m\u001b[1;33m)\u001b[0m\u001b[1;33m\u001b[0m\u001b[1;33m\u001b[0m\u001b[0m\n",
      "\u001b[1;31mTypeError\u001b[0m: values() takes no arguments (1 given)"
     ]
    }
   ],
   "source": [
    "sortedkeys=sorted(wordDict,key=wordDict.values)\n",
    "print(sortedkeys)"
   ]
  },
  {
   "cell_type": "code",
   "execution_count": 81,
   "metadata": {},
   "outputs": [],
   "source": [
    "sortedDict={}\n",
    "for key in sortedkeys:\n",
    "    sortedDict[key]=wordDict[key]"
   ]
  },
  {
   "cell_type": "code",
   "execution_count": 79,
   "metadata": {},
   "outputs": [
    {
     "data": {
      "text/plain": [
       "{'yellow': 1,\n",
       " 'wood,\\n': 1,\n",
       " 'sorry': 1,\n",
       " 'could': 1,\n",
       " 'not': 1,\n",
       " 'travel': 1,\n",
       " 'both\\n': 1,\n",
       " 'traveler,': 1,\n",
       " 'long': 1,\n",
       " 'stood\\n': 1,\n",
       " 'looked': 1,\n",
       " 'down': 1,\n",
       " 'far': 1,\n",
       " 'could\\n': 1,\n",
       " 'To': 1,\n",
       " 'where': 1,\n",
       " 'bent': 1,\n",
       " 'undergrowth;\\n': 1,\n",
       " 'Then': 1,\n",
       " 'other,': 1,\n",
       " 'just': 1,\n",
       " 'fair,\\n': 1,\n",
       " 'having': 1,\n",
       " 'perhaps': 1,\n",
       " 'better': 1,\n",
       " 'claim,\\n': 1,\n",
       " 'Because': 1,\n",
       " 'was': 1,\n",
       " 'grassy': 1,\n",
       " 'wanted': 1,\n",
       " 'wear;\\n': 1,\n",
       " 'Though': 1,\n",
       " 'passing': 1,\n",
       " 'there\\n': 1,\n",
       " 'Had': 1,\n",
       " 'worn': 1,\n",
       " 'them': 1,\n",
       " 'really': 1,\n",
       " 'about': 1,\n",
       " 'same,\\n': 1,\n",
       " 'both': 1,\n",
       " 'morning': 1,\n",
       " 'equally': 1,\n",
       " 'lay\\n': 1,\n",
       " 'In': 1,\n",
       " 'leaves': 1,\n",
       " 'no': 1,\n",
       " 'step': 1,\n",
       " 'had': 1,\n",
       " 'trodden': 1,\n",
       " 'black.\\n': 1,\n",
       " 'Oh,': 1,\n",
       " 'kept': 1,\n",
       " 'first': 1,\n",
       " 'another': 1,\n",
       " 'day!\\n': 1,\n",
       " 'Yet': 1,\n",
       " 'knowing': 1,\n",
       " 'how': 1,\n",
       " 'way': 1,\n",
       " 'leads': 1,\n",
       " 'on': 1,\n",
       " 'to': 1,\n",
       " 'way,\\n': 1,\n",
       " 'doubted': 1,\n",
       " 'if': 1,\n",
       " 'should': 1,\n",
       " 'ever': 1,\n",
       " 'come': 1,\n",
       " 'back.\\n': 1,\n",
       " 'shall': 1,\n",
       " 'telling': 1,\n",
       " 'this': 1,\n",
       " 'with': 1,\n",
       " 'sigh\\n': 1,\n",
       " 'Somewhere': 1,\n",
       " 'hence:\\n': 1,\n",
       " 'wood,': 1,\n",
       " 'Iâ€”\\n': 1,\n",
       " 'less': 1,\n",
       " 'traveled': 1,\n",
       " 'by,\\n': 1,\n",
       " 'has': 1,\n",
       " 'made': 1,\n",
       " 'all': 1,\n",
       " 'difference': 1,\n",
       " 'Two': 2,\n",
       " 'roads': 2,\n",
       " 'diverged': 2,\n",
       " 'be': 2,\n",
       " 'it': 2,\n",
       " 'took': 2,\n",
       " 'for': 2,\n",
       " 'ages': 2,\n",
       " 'in': 3,\n",
       " 'a': 3,\n",
       " 'one': 3,\n",
       " '\\n': 3,\n",
       " 'and': 3,\n",
       " 'that': 3,\n",
       " 'as': 5,\n",
       " 'And': 6,\n",
       " 'I': 8,\n",
       " 'the': 8}"
      ]
     },
     "execution_count": 79,
     "metadata": {},
     "output_type": "execute_result"
    }
   ],
   "source": [
    "sortedDict"
   ]
  },
  {
   "cell_type": "code",
   "execution_count": null,
   "metadata": {},
   "outputs": [],
   "source": []
  }
 ],
 "metadata": {
  "kernelspec": {
   "display_name": "Python 3",
   "language": "python",
   "name": "python3"
  },
  "language_info": {
   "codemirror_mode": {
    "name": "ipython",
    "version": 3
   },
   "file_extension": ".py",
   "mimetype": "text/x-python",
   "name": "python",
   "nbconvert_exporter": "python",
   "pygments_lexer": "ipython3",
   "version": "3.7.3"
  }
 },
 "nbformat": 4,
 "nbformat_minor": 2
}
