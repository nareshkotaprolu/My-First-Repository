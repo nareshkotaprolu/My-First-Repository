{
 "cells": [
  {
   "cell_type": "code",
   "execution_count": 2,
   "metadata": {},
   "outputs": [],
   "source": [
    "#Arrays or  Lists Excercises\n"
   ]
  },
  {
   "cell_type": "code",
   "execution_count": 3,
   "metadata": {},
   "outputs": [
    {
     "data": {
      "text/plain": [
       "'\\nExercise: Array DataStructure\\nLet us say your expense for every month are listed below,\\nJanuary - 2200\\nFebruary - 2350\\nMarch - 2600\\nApril - 2130\\nMay - 2190\\nCreate a list to store these monthly expenses and using that find out,\\n\\n1. In Feb, how many dollars you spent extra compare to January?\\n2. Find out your total expense in first quarter (first three months) of the year.\\n3. Find out if you spent exactly 2000 dollars in any month\\n4. June month just finished and your expense is 1980 dollar. Add this item to our monthly expense list\\n5. You returned an item that you bought in a month of April and\\ngot a refund of 200$. Make a correction to your monthly expense list\\nbased on this\\n'"
      ]
     },
     "execution_count": 3,
     "metadata": {},
     "output_type": "execute_result"
    }
   ],
   "source": [
    "\"\"\"\n",
    "Exercise: Array DataStructure\n",
    "Let us say your expense for every month are listed below,\n",
    "January - 2200\n",
    "February - 2350\n",
    "March - 2600\n",
    "April - 2130\n",
    "May - 2190\n",
    "Create a list to store these monthly expenses and using that find out,\n",
    "\n",
    "1. In Feb, how many dollars you spent extra compare to January?\n",
    "2. Find out your total expense in first quarter (first three months) of the year.\n",
    "3. Find out if you spent exactly 2000 dollars in any month\n",
    "4. June month just finished and your expense is 1980 dollar. Add this item to our monthly expense list\n",
    "5. You returned an item that you bought in a month of April and\n",
    "got a refund of 200$. Make a correction to your monthly expense list\n",
    "based on this\n",
    "\"\"\"\n"
   ]
  },
  {
   "cell_type": "code",
   "execution_count": 11,
   "metadata": {},
   "outputs": [],
   "source": [
    "expenses=[{'January':2200},{'February':2350},{'March':2600},{'April':3120},{'May':2190}]"
   ]
  },
  {
   "cell_type": "code",
   "execution_count": 49,
   "metadata": {},
   "outputs": [
    {
     "ename": "SyntaxError",
     "evalue": "invalid syntax (<ipython-input-49-4f7f940c23a6>, line 20)",
     "output_type": "error",
     "traceback": [
      "\u001b[1;36m  File \u001b[1;32m\"<ipython-input-49-4f7f940c23a6>\"\u001b[1;36m, line \u001b[1;32m20\u001b[0m\n\u001b[1;33m    expenses.insert('June':1980)\u001b[0m\n\u001b[1;37m                          ^\u001b[0m\n\u001b[1;31mSyntaxError\u001b[0m\u001b[1;31m:\u001b[0m invalid syntax\n"
     ]
    }
   ],
   "source": [
    "amt_feb=0\n",
    "amt_jan=0\n",
    "amt_mar=0\n",
    "expense_fist_quarter=0\n",
    "for item in expenses:\n",
    "    if(key in item):\n",
    "        if(item[key] == 2000):\n",
    "            print(key +\"month expense is \"+ item[key])\n",
    "        else:\n",
    "            print(\"Does not match 2000\")\n",
    "    if('January' in item):\n",
    "        amt_jan=item['January']\n",
    "        #print(amt_jan)\n",
    "    elif('February' in item):\n",
    "        amt_feb=item['February'] \n",
    "    elif('March' in item):\n",
    "        amt_mar=item['March'] \n",
    "print(amt_jan+amt_feb+amt_mar)   \n",
    "print(amt_feb-amt_jan)\n",
    "expenses.append({'June':1980})\n",
    "expenses.remove({'April': 3120})\n",
    "\n"
   ]
  },
  {
   "cell_type": "code",
   "execution_count": 75,
   "metadata": {},
   "outputs": [
    {
     "name": "stdout",
     "output_type": "stream",
     "text": [
      "{'January': 2200}\n",
      "{'February': 2350}\n",
      "{'March': 2600}\n",
      "{'April': 2920}\n",
      "{'May': 2190}\n",
      "{'June': 1980}\n"
     ]
    }
   ],
   "source": [
    "for key in expenses:\n",
    "    print(key)"
   ]
  },
  {
   "cell_type": "code",
   "execution_count": 76,
   "metadata": {},
   "outputs": [],
   "source": [
    "#Excercise 2\n",
    "#You have a list of your favourite marvel super heros.\n",
    "heros=['spider man','thor','hulk','iron man','captain america']\n",
    "#1. Length of the list\n",
    "#2. Add 'black panther' at the end of this list\n",
    "#3. You realize that you need to add 'black panther' after 'hulk',\n",
    "#   so remove it from the list first and then add it after 'hulk'\n",
    "#4. Now you don't like thor and hulk because they get angry easily :)\n",
    "#   So you want to remove thor and hulk from list and replace them with doctor strange (because he is cool).\n",
    "#   Do that with one line of code.\n",
    "#5. Sort the heros list in alphabetical order (Hint. Use dir() functions to list down all functions available in list)"
   ]
  },
  {
   "cell_type": "code",
   "execution_count": 78,
   "metadata": {},
   "outputs": [
    {
     "data": {
      "text/plain": [
       "5"
      ]
     },
     "execution_count": 78,
     "metadata": {},
     "output_type": "execute_result"
    }
   ],
   "source": [
    "len(heros)"
   ]
  },
  {
   "cell_type": "code",
   "execution_count": 79,
   "metadata": {},
   "outputs": [],
   "source": [
    "heros.append('black panther')"
   ]
  },
  {
   "cell_type": "code",
   "execution_count": 89,
   "metadata": {},
   "outputs": [
    {
     "data": {
      "text/plain": [
       "['spider man',\n",
       " 'doctor strange',\n",
       " 'doctor strange',\n",
       " 'black panther',\n",
       " 'iron man',\n",
       " 'captain america']"
      ]
     },
     "execution_count": 89,
     "metadata": {},
     "output_type": "execute_result"
    }
   ],
   "source": [
    "heros"
   ]
  },
  {
   "cell_type": "code",
   "execution_count": 82,
   "metadata": {},
   "outputs": [
    {
     "data": {
      "text/plain": [
       "'black panther'"
      ]
     },
     "execution_count": 82,
     "metadata": {},
     "output_type": "execute_result"
    }
   ],
   "source": [
    "heros.pop(5)"
   ]
  },
  {
   "cell_type": "code",
   "execution_count": 84,
   "metadata": {},
   "outputs": [],
   "source": [
    "heros.insert(3,'black panther')"
   ]
  },
  {
   "cell_type": "code",
   "execution_count": 86,
   "metadata": {},
   "outputs": [],
   "source": [
    "heros[1]='doctor strange'"
   ]
  },
  {
   "cell_type": "code",
   "execution_count": 88,
   "metadata": {},
   "outputs": [],
   "source": [
    "heros[2]='doctor strange'"
   ]
  },
  {
   "cell_type": "code",
   "execution_count": 109,
   "metadata": {},
   "outputs": [
    {
     "name": "stdout",
     "output_type": "stream",
     "text": [
      "['black panther', 'captain america', 'doctor strange', 'doctor strange', 'iron man', 'spider man']\n"
     ]
    }
   ],
   "source": [
    "print(heros)"
   ]
  },
  {
   "cell_type": "code",
   "execution_count": 118,
   "metadata": {},
   "outputs": [],
   "source": [
    "heros.sort()"
   ]
  },
  {
   "cell_type": "code",
   "execution_count": 119,
   "metadata": {},
   "outputs": [],
   "source": [
    "def myfunc(item):\n",
    "    return len(item)\n"
   ]
  },
  {
   "cell_type": "code",
   "execution_count": 120,
   "metadata": {},
   "outputs": [],
   "source": [
    "heros.sort(key=myfunc)"
   ]
  },
  {
   "cell_type": "code",
   "execution_count": 121,
   "metadata": {},
   "outputs": [
    {
     "data": {
      "text/plain": [
       "['iron man',\n",
       " 'spider man',\n",
       " 'black panther',\n",
       " 'doctor strange',\n",
       " 'doctor strange',\n",
       " 'captain america']"
      ]
     },
     "execution_count": 121,
     "metadata": {},
     "output_type": "execute_result"
    }
   ],
   "source": [
    "heros"
   ]
  },
  {
   "cell_type": "code",
   "execution_count": 129,
   "metadata": {},
   "outputs": [
    {
     "name": "stdout",
     "output_type": "stream",
     "text": [
      "Enter the input number:-20\n",
      "20\n"
     ]
    },
    {
     "data": {
      "text/plain": [
       "[1, 3, 5, 7, 9, 11, 13, 15, 17, 19]"
      ]
     },
     "execution_count": 129,
     "metadata": {},
     "output_type": "execute_result"
    }
   ],
   "source": [
    "#Excercise 3\n",
    "#Create a list of all odd numbers between 1 and a max number. \n",
    "#Max number is something you need to take from a user using input() function\n",
    "max_number=input(\"Enter the input number:-\")\n",
    "print(max_number)\n",
    "oddnum_list=[num for num in range(int(max_number))if(num%2!=0)]\n",
    "oddnum_list"
   ]
  },
  {
   "cell_type": "code",
   "execution_count": null,
   "metadata": {},
   "outputs": [],
   "source": []
  },
  {
   "cell_type": "code",
   "execution_count": 130,
   "metadata": {},
   "outputs": [],
   "source": [
    "#Linked Lists"
   ]
  },
  {
   "cell_type": "code",
   "execution_count": 132,
   "metadata": {},
   "outputs": [
    {
     "data": {
      "text/plain": [
       "'\\nIn LinkedList class that we implemented in our tutorial add following two methods,\\ndef insert_after_value(self, data_after, data_to_insert):\\n    # Search for first occurance of data_after value in linked list\\n    # Now insert data_to_insert after data_after node\\n\\ndef remove_by_value(self, data):\\n    # Remove first node that contains data\\nNow make following calls,\\n\\n    ll = LinkedList()\\n    ll.insert_values([\"banana\",\"mango\",\"grapes\",\"orange\"])\\n    ll.print()\\n    ll.insert_after_value(\"mango\",\"apple\") # insert apple after mango\\n    ll.print()\\n    ll.remove_by_value(\"orange\") # remove orange from linked list\\n    ll.print()\\n    ll.remove_by_value(\"figs\")\\n    ll.print()\\n    ll.remove_by_value(\"banana\")\\n    ll.remove_by_value(\"mango\")\\n    ll.remove_by_value(\"apple\")\\n    ll.remove_by_value(\"grapes\")\\n    ll.print()\\n'"
      ]
     },
     "execution_count": 132,
     "metadata": {},
     "output_type": "execute_result"
    }
   ],
   "source": [
    "\"\"\"\n",
    "In LinkedList class that we implemented in our tutorial add following two methods,\n",
    "def insert_after_value(self, data_after, data_to_insert):\n",
    "    # Search for first occurance of data_after value in linked list\n",
    "    # Now insert data_to_insert after data_after node\n",
    "\n",
    "def remove_by_value(self, data):\n",
    "    # Remove first node that contains data\n",
    "Now make following calls,\n",
    "\n",
    "    ll = LinkedList()\n",
    "    ll.insert_values([\"banana\",\"mango\",\"grapes\",\"orange\"])\n",
    "    ll.print()\n",
    "    ll.insert_after_value(\"mango\",\"apple\") # insert apple after mango\n",
    "    ll.print()\n",
    "    ll.remove_by_value(\"orange\") # remove orange from linked list\n",
    "    ll.print()\n",
    "    ll.remove_by_value(\"figs\")\n",
    "    ll.print()\n",
    "    ll.remove_by_value(\"banana\")\n",
    "    ll.remove_by_value(\"mango\")\n",
    "    ll.remove_by_value(\"apple\")\n",
    "    ll.remove_by_value(\"grapes\")\n",
    "    ll.print()\n",
    "\"\"\""
   ]
  },
  {
   "cell_type": "code",
   "execution_count": 137,
   "metadata": {},
   "outputs": [],
   "source": [
    "class Node:\n",
    "    def __init__(self, data=None, next=None):\n",
    "        self.data = data\n",
    "        self.next = next"
   ]
  },
  {
   "cell_type": "code",
   "execution_count": 145,
   "metadata": {},
   "outputs": [],
   "source": [
    "class LinkedList:\n",
    "    def __init__(self):\n",
    "        self.head = None\n",
    "\n",
    "    def print(self):\n",
    "        if self.head is None:\n",
    "            print(\"Linked list is empty\")\n",
    "            return\n",
    "        itr = self.head\n",
    "        llstr = ''\n",
    "        while itr:\n",
    "            llstr += str(itr.data)+' --> ' if itr.next else str(itr.data)\n",
    "            itr = itr.next\n",
    "        print(llstr)\n",
    "\n",
    "    def get_length(self):\n",
    "        count = 0\n",
    "        itr = self.head\n",
    "        while itr:\n",
    "            count+=1\n",
    "            itr = itr.next\n",
    "\n",
    "        return count\n",
    "\n",
    "    def insert_at_begining(self, data):\n",
    "        node = Node(data, self.head)\n",
    "        self.head = node\n",
    "\n",
    "    def insert_at_end(self, data):\n",
    "        if self.head is None:\n",
    "            self.head = Node(data, None)\n",
    "            return\n",
    "\n",
    "        itr = self.head\n",
    "\n",
    "        while itr.next:\n",
    "            itr = itr.next\n",
    "\n",
    "        itr.next = Node(data, None)\n",
    "\n",
    "    def insert_at(self, index, data):\n",
    "        if index<0 or index>self.get_length():\n",
    "            raise Exception(\"Invalid Index\")\n",
    "\n",
    "        if index==0:\n",
    "            self.insert_at_begining(data)\n",
    "            return\n",
    "\n",
    "        count = 0\n",
    "        itr = self.head\n",
    "        while itr:\n",
    "            if count == index - 1:\n",
    "                node = Node(data, itr.next)\n",
    "                itr.next = node\n",
    "                break\n",
    "\n",
    "            itr = itr.next\n",
    "            count += 1\n",
    "\n",
    "    def remove_at(self, index):\n",
    "        if index<0 or index>=self.get_length():\n",
    "            raise Exception(\"Invalid Index\")\n",
    "\n",
    "        if index==0:\n",
    "            self.head = self.head.next\n",
    "            return\n",
    "\n",
    "        count = 0\n",
    "        itr = self.head\n",
    "        while itr:\n",
    "            if count == index - 1:\n",
    "                itr.next = itr.next.next\n",
    "                break\n",
    "\n",
    "            itr = itr.next\n",
    "            count+=1\n",
    "\n",
    "    def insert_values(self, data_list):\n",
    "        self.head = None\n",
    "        for data in data_list:\n",
    "            self.insert_at_end(data)"
   ]
  },
  {
   "cell_type": "code",
   "execution_count": 146,
   "metadata": {},
   "outputs": [
    {
     "name": "stdout",
     "output_type": "stream",
     "text": [
      "banana --> blueberry --> mango --> grapes --> orange\n"
     ]
    }
   ],
   "source": [
    "ll = LinkedList()\n",
    "ll.insert_values([\"banana\",\"mango\",\"grapes\",\"orange\"])\n",
    "ll.insert_at(1,\"blueberry\")\n",
    "ll.print()"
   ]
  },
  {
   "cell_type": "code",
   "execution_count": 148,
   "metadata": {},
   "outputs": [
    {
     "ename": "FileNotFoundError",
     "evalue": "[Errno 2] No such file or directory: 'C:\\\\Naresh\\\\practice\\\\nyse'",
     "output_type": "error",
     "traceback": [
      "\u001b[1;31m---------------------------------------------------------------------------\u001b[0m",
      "\u001b[1;31mFileNotFoundError\u001b[0m                         Traceback (most recent call last)",
      "\u001b[1;32m<ipython-input-148-4f4e0df126ec>\u001b[0m in \u001b[0;36m<module>\u001b[1;34m\u001b[0m\n\u001b[0;32m      5\u001b[0m \u001b[1;31m# Figure out data structure that is best for this problem\u001b[0m\u001b[1;33m\u001b[0m\u001b[1;33m\u001b[0m\u001b[1;33m\u001b[0m\u001b[0m\n\u001b[0;32m      6\u001b[0m \u001b[1;33m\u001b[0m\u001b[0m\n\u001b[1;32m----> 7\u001b[1;33m \u001b[1;32mwith\u001b[0m \u001b[0mopen\u001b[0m\u001b[1;33m(\u001b[0m\u001b[1;34m\"C:\\\\Naresh\\\\practice\\\\nyse\"\u001b[0m\u001b[1;33m,\u001b[0m\u001b[1;34m\"r\"\u001b[0m\u001b[1;33m)\u001b[0m \u001b[1;32mas\u001b[0m \u001b[0mf\u001b[0m\u001b[1;33m:\u001b[0m\u001b[1;33m\u001b[0m\u001b[1;33m\u001b[0m\u001b[0m\n\u001b[0m\u001b[0;32m      8\u001b[0m     \u001b[1;32mfor\u001b[0m \u001b[0mline\u001b[0m \u001b[1;32min\u001b[0m \u001b[0mf\u001b[0m\u001b[1;33m:\u001b[0m\u001b[1;33m\u001b[0m\u001b[1;33m\u001b[0m\u001b[0m\n\u001b[0;32m      9\u001b[0m         \u001b[0mprint\u001b[0m\u001b[1;33m(\u001b[0m\u001b[0mline\u001b[0m\u001b[1;33m)\u001b[0m\u001b[1;33m\u001b[0m\u001b[1;33m\u001b[0m\u001b[0m\n",
      "\u001b[1;31mFileNotFoundError\u001b[0m: [Errno 2] No such file or directory: 'C:\\\\Naresh\\\\practice\\\\nyse'"
     ]
    }
   ],
   "source": [
    "# Exercise: Hash Table\n",
    "# 1. nyc_weather.csv contains new york city weather for first few days in the month of January. Write a program that can answer following,\n",
    "# What was the average temperature in first week of Jan\n",
    "# What was the maximum temperature in first 10 days of Jan\n",
    "# Figure out data structure that is best for this problem\n",
    "\n",
    "with open(\"C:\\\\Naresh\\\\practice\\\\nyse\",\"r\") as f:\n",
    "    for line in f:\n",
    "        print(line)"
   ]
  },
  {
   "cell_type": "code",
   "execution_count": 2,
   "metadata": {},
   "outputs": [],
   "source": [
    "#Excercise HashTable\n",
    "#link:\n",
    "#https://github.com/codebasics/data-structures-algorithms-python/blob/master/data_structures/4_HashTable_2_Collisions/4_hash_table_exercise.md\n",
    "#    \n",
    "#1. nyc_weather.csv contains new york city weather for first few days in the month of January. Write a program that can answer following,\n",
    "#What was the average temperature in first week of Jan\n",
    "#What was the maximum temperature in first 10 days of Jan\n"
   ]
  },
  {
   "cell_type": "code",
   "execution_count": null,
   "metadata": {},
   "outputs": [],
   "source": [
    "dict={}\n",
    "list=[]\n",
    "with open(\"C:\\Users\\703250104\\Documents\\Naresh\\\\input.txt\",\"r\") as f:\n",
    "    for line in f:\n",
    "        #print(line)\n",
    "        key=line.split(\",\")[0]\n",
    "        value=line.split(\",\")[1]\n",
    "        dict[key]=value.replace(\"\\n\",\"\")\n",
    "        list.append((value))\n",
    "        \n",
    "sum=0\n",
    "max_temp=0\n",
    "for (key,value) in dict.items():\n",
    "    print(key,value)\n",
    "    if int(key.split(\" \")[1]) <=7:\n",
    "        sum+=int(value)\n",
    "    if max_temp<int(value):\n",
    "        max_temp=int(value)        \n",
    "        \n",
    "average=(sum/7)\n",
    "print(average)\n",
    "print(max_temp)\n",
    "print(dict['Jan 4'])\n",
    "print(dict['Jan 9'])\n",
    "list\n",
    "len(list)\n",
    "sum(list)"
   ]
  },
  {
   "cell_type": "code",
   "execution_count": null,
   "metadata": {},
   "outputs": [],
   "source": []
  },
  {
   "cell_type": "code",
   "execution_count": 4,
   "metadata": {},
   "outputs": [
    {
     "ename": "FileNotFoundError",
     "evalue": "[Errno 2] No such file or directory: 'C:\\\\Users\\\\703250104\\\\Documents\\\\Naresh\\\\input.txt'",
     "output_type": "error",
     "traceback": [
      "\u001b[1;31m---------------------------------------------------------------------------\u001b[0m",
      "\u001b[1;31mFileNotFoundError\u001b[0m                         Traceback (most recent call last)",
      "\u001b[1;32m<ipython-input-4-8582e9933818>\u001b[0m in \u001b[0;36m<module>\u001b[1;34m\u001b[0m\n\u001b[1;32m----> 1\u001b[1;33m \u001b[1;32mwith\u001b[0m \u001b[0mopen\u001b[0m\u001b[1;33m(\u001b[0m\u001b[1;34m\"C:\\\\Users\\\\703250104\\\\Documents\\\\Naresh\\\\input.txt\"\u001b[0m\u001b[1;33m,\u001b[0m\u001b[1;34m\"r\"\u001b[0m\u001b[1;33m)\u001b[0m \u001b[1;32mas\u001b[0m \u001b[0mf\u001b[0m\u001b[1;33m:\u001b[0m\u001b[1;33m\u001b[0m\u001b[1;33m\u001b[0m\u001b[0m\n\u001b[0m\u001b[0;32m      2\u001b[0m     \u001b[1;32mfor\u001b[0m \u001b[0mline\u001b[0m \u001b[1;32min\u001b[0m \u001b[0mf\u001b[0m\u001b[1;33m:\u001b[0m\u001b[1;33m\u001b[0m\u001b[1;33m\u001b[0m\u001b[0m\n\u001b[0;32m      3\u001b[0m         \u001b[0mprint\u001b[0m\u001b[1;33m(\u001b[0m\u001b[0mline\u001b[0m\u001b[1;33m)\u001b[0m\u001b[1;33m\u001b[0m\u001b[1;33m\u001b[0m\u001b[0m\n",
      "\u001b[1;31mFileNotFoundError\u001b[0m: [Errno 2] No such file or directory: 'C:\\\\Users\\\\703250104\\\\Documents\\\\Naresh\\\\input.txt'"
     ]
    }
   ],
   "source": [
    "\n",
    "#3 \n",
    "#poem.txt Contains famous poem \"Road not taken\" by poet Robert Frost. You have to read this file in python and print every word and its count as show below. Think about the best data structure that you can use to solve this problem and figure out why you selected that specific data structure.\n",
    "# 'diverged': 2,\n",
    "# 'in': 3,\n",
    "# 'I': 8\n",
    "wordDict={}\n",
    "with open(\"C:\\\\Naresh\\\\input2.txt\",\"r\") as f:\n",
    "    for line in f:\n",
    "        words=line.split(\" \")\n",
    "        for word in words:\n",
    "            if word in wordDict:\n",
    "                wordDict[word]= wordDict[word]+1\n",
    "            else:\n",
    "                wordDict[word]=1"
   ]
  },
  {
   "cell_type": "code",
   "execution_count": 13,
   "metadata": {},
   "outputs": [
    {
     "ename": "FileNotFoundError",
     "evalue": "[Errno 2] No such file or directory: 'C:\\\\Naresh\\\\input.txt'",
     "output_type": "error",
     "traceback": [
      "\u001b[1;31m---------------------------------------------------------------------------\u001b[0m",
      "\u001b[1;31mFileNotFoundError\u001b[0m                         Traceback (most recent call last)",
      "\u001b[1;32m<ipython-input-13-8f7ea7d9d774>\u001b[0m in \u001b[0;36m<module>\u001b[1;34m\u001b[0m\n\u001b[1;32m----> 1\u001b[1;33m \u001b[1;32mwith\u001b[0m \u001b[0mopen\u001b[0m\u001b[1;33m(\u001b[0m\u001b[1;34m\"C:\\\\Naresh\\\\input.txt\"\u001b[0m\u001b[1;33m,\u001b[0m\u001b[1;34m\"r\"\u001b[0m\u001b[1;33m)\u001b[0m \u001b[1;32mas\u001b[0m \u001b[0mf\u001b[0m\u001b[1;33m:\u001b[0m\u001b[1;33m\u001b[0m\u001b[1;33m\u001b[0m\u001b[0m\n\u001b[0m\u001b[0;32m      2\u001b[0m     \u001b[1;32mfor\u001b[0m \u001b[0mline\u001b[0m \u001b[1;32min\u001b[0m \u001b[0mf\u001b[0m\u001b[1;33m:\u001b[0m\u001b[1;33m\u001b[0m\u001b[1;33m\u001b[0m\u001b[0m\n\u001b[0;32m      3\u001b[0m         \u001b[0mprint\u001b[0m\u001b[1;33m(\u001b[0m\u001b[0mline\u001b[0m\u001b[1;33m)\u001b[0m\u001b[1;33m\u001b[0m\u001b[1;33m\u001b[0m\u001b[0m\n",
      "\u001b[1;31mFileNotFoundError\u001b[0m: [Errno 2] No such file or directory: 'C:\\\\Naresh\\\\input.txt'"
     ]
    }
   ],
   "source": [
    "with open(\"C:\\\\Naresh\\\\input.txt\",\"r\") as f:\n",
    "    for line in f:\n",
    "        print(line)"
   ]
  },
  {
   "cell_type": "code",
   "execution_count": null,
   "metadata": {},
   "outputs": [],
   "source": [
    "\n",
    "sortedkeys=sorted(wordDict,key=wordDict.values)\n",
    "print(sortedkeys)\n",
    "sortedDict={}\n",
    "for key in sortedkeys:\n",
    "    sortedDict[key]=wordDict[key]"
   ]
  },
  {
   "cell_type": "code",
   "execution_count": null,
   "metadata": {},
   "outputs": [],
   "source": [
    "#################\n",
    "#Stack\n",
    "#############"
   ]
  },
  {
   "cell_type": "code",
   "execution_count": 15,
   "metadata": {},
   "outputs": [],
   "source": [
    "\n",
    "s = []\n",
    "s.append('https://www.cnn.com/')\n",
    "s.append('https://www.cnn.com/world')\n",
    "s.append('https://www.cnn.com/india')\n",
    "s.append('https://www.cnn.com/china')"
   ]
  },
  {
   "cell_type": "code",
   "execution_count": 16,
   "metadata": {},
   "outputs": [
    {
     "data": {
      "text/plain": [
       "['https://www.cnn.com/',\n",
       " 'https://www.cnn.com/world',\n",
       " 'https://www.cnn.com/india',\n",
       " 'https://www.cnn.com/china']"
      ]
     },
     "execution_count": 16,
     "metadata": {},
     "output_type": "execute_result"
    }
   ],
   "source": [
    "s"
   ]
  },
  {
   "cell_type": "code",
   "execution_count": 18,
   "metadata": {},
   "outputs": [
    {
     "data": {
      "text/plain": [
       "'https://www.cnn.com/china'"
      ]
     },
     "execution_count": 18,
     "metadata": {},
     "output_type": "execute_result"
    }
   ],
   "source": [
    "s.pop()\n"
   ]
  },
  {
   "cell_type": "code",
   "execution_count": 19,
   "metadata": {},
   "outputs": [
    {
     "data": {
      "text/plain": [
       "'https://www.cnn.com/india'"
      ]
     },
     "execution_count": 19,
     "metadata": {},
     "output_type": "execute_result"
    }
   ],
   "source": [
    "s.pop()\n"
   ]
  },
  {
   "cell_type": "code",
   "execution_count": 20,
   "metadata": {},
   "outputs": [
    {
     "data": {
      "text/plain": [
       "'https://www.cnn.com/world'"
      ]
     },
     "execution_count": 20,
     "metadata": {},
     "output_type": "execute_result"
    }
   ],
   "source": [
    "s[-1]"
   ]
  },
  {
   "cell_type": "code",
   "execution_count": 21,
   "metadata": {},
   "outputs": [
    {
     "data": {
      "text/plain": [
       "['https://www.cnn.com/', 'https://www.cnn.com/world']"
      ]
     },
     "execution_count": 21,
     "metadata": {},
     "output_type": "execute_result"
    }
   ],
   "source": [
    "s\n"
   ]
  },
  {
   "cell_type": "code",
   "execution_count": 22,
   "metadata": {},
   "outputs": [],
   "source": [
    "from collections import deque"
   ]
  },
  {
   "cell_type": "code",
   "execution_count": 23,
   "metadata": {},
   "outputs": [],
   "source": [
    "stack =deque()"
   ]
  },
  {
   "cell_type": "code",
   "execution_count": 24,
   "metadata": {},
   "outputs": [],
   "source": [
    "stack.append('https://www.cnn.com/')"
   ]
  },
  {
   "cell_type": "code",
   "execution_count": 25,
   "metadata": {},
   "outputs": [],
   "source": [
    "stack.append('https://www.cnn.com/world')\n",
    "stack.append('https://www.cnn.com/india')\n",
    "stack.append('https://www.cnn.com/china')"
   ]
  },
  {
   "cell_type": "code",
   "execution_count": 26,
   "metadata": {},
   "outputs": [
    {
     "data": {
      "text/plain": [
       "deque(['https://www.cnn.com/',\n",
       "       'https://www.cnn.com/world',\n",
       "       'https://www.cnn.com/india',\n",
       "       'https://www.cnn.com/china'])"
      ]
     },
     "execution_count": 26,
     "metadata": {},
     "output_type": "execute_result"
    }
   ],
   "source": [
    "stack"
   ]
  },
  {
   "cell_type": "code",
   "execution_count": 27,
   "metadata": {},
   "outputs": [
    {
     "data": {
      "text/plain": [
       "'https://www.cnn.com/china'"
      ]
     },
     "execution_count": 27,
     "metadata": {},
     "output_type": "execute_result"
    }
   ],
   "source": [
    "stack.pop()"
   ]
  },
  {
   "cell_type": "code",
   "execution_count": 28,
   "metadata": {},
   "outputs": [
    {
     "data": {
      "text/plain": [
       "deque(['https://www.cnn.com/',\n",
       "       'https://www.cnn.com/world',\n",
       "       'https://www.cnn.com/india'])"
      ]
     },
     "execution_count": 28,
     "metadata": {},
     "output_type": "execute_result"
    }
   ],
   "source": [
    "stack"
   ]
  },
  {
   "cell_type": "code",
   "execution_count": 29,
   "metadata": {},
   "outputs": [
    {
     "data": {
      "text/plain": [
       "'https://www.cnn.com/'"
      ]
     },
     "execution_count": 29,
     "metadata": {},
     "output_type": "execute_result"
    }
   ],
   "source": [
    "stack.popleft()"
   ]
  },
  {
   "cell_type": "code",
   "execution_count": 30,
   "metadata": {},
   "outputs": [
    {
     "data": {
      "text/plain": [
       "deque(['https://www.cnn.com/world', 'https://www.cnn.com/india'])"
      ]
     },
     "execution_count": 30,
     "metadata": {},
     "output_type": "execute_result"
    }
   ],
   "source": [
    "stack"
   ]
  },
  {
   "cell_type": "code",
   "execution_count": 31,
   "metadata": {},
   "outputs": [],
   "source": [
    "stack.appendleft('https://www.cnn.com/')"
   ]
  },
  {
   "cell_type": "code",
   "execution_count": 32,
   "metadata": {},
   "outputs": [
    {
     "data": {
      "text/plain": [
       "deque(['https://www.cnn.com/',\n",
       "       'https://www.cnn.com/world',\n",
       "       'https://www.cnn.com/india'])"
      ]
     },
     "execution_count": 32,
     "metadata": {},
     "output_type": "execute_result"
    }
   ],
   "source": [
    "stack"
   ]
  },
  {
   "cell_type": "code",
   "execution_count": 87,
   "metadata": {},
   "outputs": [],
   "source": [
    "from collections import deque"
   ]
  },
  {
   "cell_type": "code",
   "execution_count": 88,
   "metadata": {},
   "outputs": [],
   "source": [
    "# 1 Data structure tutorial exercise: Stack\n",
    "#Write a function in python that can reverse a string using stack data structure. Use Stack class from the tutorial.\n",
    "#reverse_string(\"We will conquere COVID-19\") should return \"91-DIVOC ereuqnoc lliw eW\""
   ]
  },
  {
   "cell_type": "code",
   "execution_count": 89,
   "metadata": {},
   "outputs": [],
   "source": [
    "class Stack:\n",
    "    def __init__(self):\n",
    "        self.container = deque()\n",
    "    \n",
    "    def push(self,val):\n",
    "        self.container.append(val)\n",
    "        \n",
    "    def pop(self):\n",
    "        return self.container.pop()\n",
    "    \n",
    "    def peek(self):\n",
    "        return  self.container[-1]\n",
    "    \n",
    "    def is_empty(self):\n",
    "        return len(self.container)==0\n",
    "    \n",
    "    def size(self):\n",
    "        return len(self.container)\n",
    "    \n",
    "\n",
    "        "
   ]
  },
  {
   "cell_type": "code",
   "execution_count": 104,
   "metadata": {},
   "outputs": [],
   "source": [
    "def reverse_string(string_value):\n",
    "    st=Stack()\n",
    "    for char in string_value:\n",
    "        st.push(char)\n",
    "    reversed_string=''\n",
    "    print(st.size)\n",
    "    while st.size() != 0:\n",
    "        reversed_string +=st.pop()\n",
    "    return reversed_string"
   ]
  },
  {
   "cell_type": "code",
   "execution_count": 108,
   "metadata": {},
   "outputs": [
    {
     "name": "stdout",
     "output_type": "stream",
     "text": [
      "<bound method Stack.size of <__main__.Stack object at 0x0000020C7D430730>>\n"
     ]
    },
    {
     "data": {
      "text/plain": [
       "'91-DIVOC ereuqnoc lliw eW'"
      ]
     },
     "execution_count": 108,
     "metadata": {},
     "output_type": "execute_result"
    }
   ],
   "source": [
    "reverse_string(\"We will conquere COVID-19\")"
   ]
  },
  {
   "cell_type": "code",
   "execution_count": null,
   "metadata": {},
   "outputs": [],
   "source": [
    "#2 Write a function in python that checks if paranthesis in the string are balanced or not. \n",
    "# Possible parantheses are \"{}',\"()\" or \"[]\". Use Stack class from the tutorial.\n",
    "# is_balanced(\"({a+b})\")     --> True\n",
    "# is_balanced(\"))((a+b}{\")   --> False\n",
    "# is_balanced(\"((a+b))\")     --> True\n",
    "# is_balanced(\"))\")          --> False\n",
    "# is_balanced(\"[a+b]*(x+2y)*{gg+kk}\") --> True"
   ]
  },
  {
   "cell_type": "code",
   "execution_count": 118,
   "metadata": {},
   "outputs": [],
   "source": [
    "def is_balanced(expr):\n",
    "    stack=Stack()\n",
    "    validparenthesis=['{','}','[',']','(',')']\n",
    "    balanced=False\n",
    "    for c in expr:\n",
    "        if c in validparenthesis:\n",
    "            stack.push(c)\n",
    "    while stack.size() !=0:\n",
    "        stack.pop()\n",
    "        balanced=True\n",
    "    return balanced \n",
    "    "
   ]
  },
  {
   "cell_type": "code",
   "execution_count": 119,
   "metadata": {},
   "outputs": [
    {
     "data": {
      "text/plain": [
       "True"
      ]
     },
     "execution_count": 119,
     "metadata": {},
     "output_type": "execute_result"
    }
   ],
   "source": [
    "is_balanced(\"({a+b})\")"
   ]
  },
  {
   "cell_type": "code",
   "execution_count": 120,
   "metadata": {},
   "outputs": [
    {
     "data": {
      "text/plain": [
       "True"
      ]
     },
     "execution_count": 120,
     "metadata": {},
     "output_type": "execute_result"
    }
   ],
   "source": [
    "is_balanced(\"))((a+b}{\")"
   ]
  },
  {
   "cell_type": "code",
   "execution_count": 121,
   "metadata": {},
   "outputs": [
    {
     "data": {
      "text/plain": [
       "True"
      ]
     },
     "execution_count": 121,
     "metadata": {},
     "output_type": "execute_result"
    }
   ],
   "source": [
    "is_balanced(\"))\") "
   ]
  },
  {
   "cell_type": "code",
   "execution_count": 123,
   "metadata": {},
   "outputs": [],
   "source": [
    "def is_match(ch1, ch2):\n",
    "    match_dict = {\n",
    "        ')': '(',\n",
    "        ']': '[',\n",
    "        '}': '{'\n",
    "    }\n",
    "    return match_dict[ch1] == ch2\n",
    "\n",
    "def is_balanced(s):\n",
    "    stack = Stack()\n",
    "    for ch in s:\n",
    "        if ch=='(' or ch=='{' or ch == '[':\n",
    "            stack.push(ch)\n",
    "        if ch==')' or ch=='}' or ch == ']':\n",
    "            if stack.size()==0:\n",
    "                return False\n",
    "            if not is_match(ch,stack.pop()):\n",
    "                return False\n",
    "\n",
    "    return stack.size()==0"
   ]
  },
  {
   "cell_type": "code",
   "execution_count": 126,
   "metadata": {},
   "outputs": [
    {
     "data": {
      "text/plain": [
       "True"
      ]
     },
     "execution_count": 126,
     "metadata": {},
     "output_type": "execute_result"
    }
   ],
   "source": [
    "is_balanced(\"()\") "
   ]
  },
  {
   "cell_type": "code",
   "execution_count": 1,
   "metadata": {},
   "outputs": [],
   "source": [
    "#Queue\n",
    "\n",
    "#using list"
   ]
  },
  {
   "cell_type": "code",
   "execution_count": 2,
   "metadata": {},
   "outputs": [],
   "source": [
    "wmt_stock_price_queue=[]"
   ]
  },
  {
   "cell_type": "code",
   "execution_count": 3,
   "metadata": {},
   "outputs": [],
   "source": [
    "wmt_stock_price_queue.insert(0,131.10)"
   ]
  },
  {
   "cell_type": "code",
   "execution_count": 4,
   "metadata": {},
   "outputs": [],
   "source": [
    "wmt_stock_price_queue.insert(0,132.10)\n",
    "wmt_stock_price_queue.insert(0,135.10)"
   ]
  },
  {
   "cell_type": "code",
   "execution_count": 5,
   "metadata": {},
   "outputs": [
    {
     "data": {
      "text/plain": [
       "[135.1, 132.1, 131.1]"
      ]
     },
     "execution_count": 5,
     "metadata": {},
     "output_type": "execute_result"
    }
   ],
   "source": [
    "wmt_stock_price_queue"
   ]
  },
  {
   "cell_type": "code",
   "execution_count": 6,
   "metadata": {},
   "outputs": [
    {
     "data": {
      "text/plain": [
       "131.1"
      ]
     },
     "execution_count": 6,
     "metadata": {},
     "output_type": "execute_result"
    }
   ],
   "source": [
    "wmt_stock_price_queue.pop()"
   ]
  },
  {
   "cell_type": "code",
   "execution_count": 7,
   "metadata": {},
   "outputs": [],
   "source": [
    "#using deque\n",
    "from collections import deque\n",
    "q=deque()"
   ]
  },
  {
   "cell_type": "code",
   "execution_count": 8,
   "metadata": {},
   "outputs": [],
   "source": [
    "q.appendleft(5)"
   ]
  },
  {
   "cell_type": "code",
   "execution_count": 9,
   "metadata": {},
   "outputs": [],
   "source": [
    "q.appendleft(8)"
   ]
  },
  {
   "cell_type": "code",
   "execution_count": 10,
   "metadata": {},
   "outputs": [],
   "source": [
    "q.appendleft(27)"
   ]
  },
  {
   "cell_type": "code",
   "execution_count": 11,
   "metadata": {},
   "outputs": [
    {
     "data": {
      "text/plain": [
       "deque([27, 8, 5])"
      ]
     },
     "execution_count": 11,
     "metadata": {},
     "output_type": "execute_result"
    }
   ],
   "source": [
    "q"
   ]
  },
  {
   "cell_type": "code",
   "execution_count": 12,
   "metadata": {},
   "outputs": [
    {
     "data": {
      "text/plain": [
       "5"
      ]
     },
     "execution_count": 12,
     "metadata": {},
     "output_type": "execute_result"
    }
   ],
   "source": [
    "q.pop()"
   ]
  },
  {
   "cell_type": "code",
   "execution_count": 13,
   "metadata": {},
   "outputs": [],
   "source": [
    "################################\n",
    "#Tree\n",
    "##########################"
   ]
  },
  {
   "cell_type": "code",
   "execution_count": null,
   "metadata": {},
   "outputs": [],
   "source": [
    "#1. \n",
    "Below is the management hierarchy of a company.\n",
    "\n",
    "ss\n",
    "\n",
    "Extent tree class built in our main tutorial so that it takes name and designation in data part of TreeNode class. \n",
    "Now extend print_tree function such that it can print either name tree, designation tree or name and designation tree. As shown below,\n",
    "\n"
   ]
  },
  {
   "cell_type": "code",
   "execution_count": 72,
   "metadata": {},
   "outputs": [],
   "source": [
    "class TreeNode:\n",
    "    def __init__(self, designation,name):\n",
    "        self.name = name\n",
    "        self.designation=designation\n",
    "        self.children = []\n",
    "        self.parent = None\n",
    "\n",
    "\n",
    "    def get_level(self):\n",
    "        level = 0\n",
    "        p = self.parent\n",
    "        while p:\n",
    "            level += 1\n",
    "            p = p.parent\n",
    "\n",
    "        return level\n",
    "\n",
    "    def print_tree(self,param):        \n",
    "        #param ='both'\n",
    "        spaces = ' ' * self.get_level() * 3\n",
    "        prefix = spaces + \"|__\" if self.parent else \"\"\n",
    "        if param == 'name':            \n",
    "            print(prefix + self.name)\n",
    "        elif param == 'designation':\n",
    "            print(prefix + self.designation)\n",
    "        elif param == 'both':\n",
    "            print(prefix + self.name+\" (\"+self.designation+\")\")\n",
    "        if self.children:\n",
    "            for child in self.children:\n",
    "                child.print_tree(param)\n",
    "\n",
    "    def add_child(self, child):\n",
    "        child.parent = self\n",
    "        self.children.append(child)\n",
    "\n"
   ]
  },
  {
   "cell_type": "code",
   "execution_count": 74,
   "metadata": {},
   "outputs": [
    {
     "name": "stdout",
     "output_type": "stream",
     "text": [
      "Nilipul\n",
      "   |__Chinmay\n",
      "      |__Viswa\n",
      "         |__Dhaval\n",
      "         |__Abhjit\n",
      "      |__Amir\n",
      "CEO\n",
      "   |__CTO\n",
      "      |__Infrastrucute Head\n",
      "         |__Cloud Manger\n",
      "         |__App Manger\n",
      "      |__Application Head\n",
      "Nilipul (CEO)\n",
      "   |__Chinmay (CTO)\n",
      "      |__Viswa (Infrastrucute Head)\n",
      "         |__Dhaval (Cloud Manger)\n",
      "         |__Abhjit (App Manger)\n",
      "      |__Amir (Application Head)\n"
     ]
    }
   ],
   "source": [
    "def build_management_tree():\n",
    "    ceo = TreeNode(\"CEO\",\"Nilipul\")\n",
    "\n",
    "    cto = TreeNode(\"CTO\",\"Chinmay\")\n",
    "    infrahead = TreeNode(\"Infrastrucute Head\",\"Viswa\")\n",
    "    infrahead.add_child(TreeNode(\"Cloud Manger\",\"Dhaval\"))\n",
    "    infrahead.add_child(TreeNode(\"App Manger\",\"Abhjit\"))\n",
    "    applicationhead=TreeNode(\"Application Head\",\"Amir\")\n",
    "\n",
    "    cto.add_child(infrahead)\n",
    "    cto.add_child(applicationhead)\n",
    "    ceo.add_child(cto)\n",
    "    return ceo\n",
    "\n",
    "\n",
    "\n",
    "if __name__ =='__main__':\n",
    "    root=build_management_tree()\n",
    "    root.print_tree(\"name\") # prints only name hierarchy\n",
    "    root.print_tree(\"designation\") # prints only designation hierarchy\n",
    "    root.print_tree(\"both\") # prints both (name and designation) hierarchy"
   ]
  },
  {
   "cell_type": "code",
   "execution_count": null,
   "metadata": {},
   "outputs": [],
   "source": [
    "########################\n",
    "######Algorithms##############\n",
    "#################################\n"
   ]
  },
  {
   "cell_type": "code",
   "execution_count": 43,
   "metadata": {},
   "outputs": [],
   "source": [
    "########Quick Sort##########\n"
   ]
  },
  {
   "cell_type": "code",
   "execution_count": null,
   "metadata": {},
   "outputs": [],
   "source": []
  },
  {
   "cell_type": "code",
   "execution_count": 13,
   "metadata": {},
   "outputs": [],
   "source": [
    "def swap(start,end,arr):\n",
    "    temp=arr[start]\n",
    "    arr[start]=arr[end]\n",
    "    arr[end]=temp"
   ]
  },
  {
   "cell_type": "code",
   "execution_count": 23,
   "metadata": {},
   "outputs": [],
   "source": [
    "def quickSort(elements,start,end):\n",
    "    pivot_index=start\n",
    "    pivot=elements[pivot_index]\n",
    "    while start < len(elements) and  start < end:\n",
    "        while elements[start]< pivot:\n",
    "            start+=1\n",
    "        while elements[end] > pivot:\n",
    "            end-=1\n",
    "        if start<end:\n",
    "            swap(start,end,elementsments)\n",
    "    return end"
   ]
  },
  {
   "cell_type": "code",
   "execution_count": 24,
   "metadata": {},
   "outputs": [
    {
     "ename": "IndexError",
     "evalue": "list index out of range",
     "output_type": "error",
     "traceback": [
      "\u001b[1;31m---------------------------------------------------------------------------\u001b[0m",
      "\u001b[1;31mIndexError\u001b[0m                                Traceback (most recent call last)",
      "\u001b[1;32m<ipython-input-24-32193b3fbe30>\u001b[0m in \u001b[0;36m<module>\u001b[1;34m\u001b[0m\n\u001b[0;32m      1\u001b[0m \u001b[0melements\u001b[0m\u001b[1;33m=\u001b[0m\u001b[1;33m[\u001b[0m\u001b[1;36m11\u001b[0m\u001b[1;33m,\u001b[0m\u001b[1;36m9\u001b[0m\u001b[1;33m,\u001b[0m\u001b[1;36m29\u001b[0m\u001b[1;33m,\u001b[0m\u001b[1;36m7\u001b[0m\u001b[1;33m,\u001b[0m\u001b[1;36m2\u001b[0m\u001b[1;33m,\u001b[0m\u001b[1;36m15\u001b[0m\u001b[1;33m,\u001b[0m\u001b[1;36m28\u001b[0m\u001b[1;33m]\u001b[0m\u001b[1;33m\u001b[0m\u001b[1;33m\u001b[0m\u001b[0m\n\u001b[1;32m----> 2\u001b[1;33m \u001b[0mquickSort\u001b[0m\u001b[1;33m(\u001b[0m\u001b[0melements\u001b[0m\u001b[1;33m,\u001b[0m\u001b[1;36m0\u001b[0m\u001b[1;33m,\u001b[0m\u001b[0mlen\u001b[0m\u001b[1;33m(\u001b[0m\u001b[0melements\u001b[0m\u001b[1;33m)\u001b[0m\u001b[1;33m)\u001b[0m\u001b[1;33m\u001b[0m\u001b[1;33m\u001b[0m\u001b[0m\n\u001b[0m",
      "\u001b[1;32m<ipython-input-23-7878e87d28be>\u001b[0m in \u001b[0;36mquickSort\u001b[1;34m(elements, start, end)\u001b[0m\n\u001b[0;32m      5\u001b[0m         \u001b[1;32mwhile\u001b[0m \u001b[0melements\u001b[0m\u001b[1;33m[\u001b[0m\u001b[0mstart\u001b[0m\u001b[1;33m]\u001b[0m\u001b[1;33m<\u001b[0m \u001b[0mpivot\u001b[0m\u001b[1;33m:\u001b[0m\u001b[1;33m\u001b[0m\u001b[1;33m\u001b[0m\u001b[0m\n\u001b[0;32m      6\u001b[0m             \u001b[0mstart\u001b[0m\u001b[1;33m+=\u001b[0m\u001b[1;36m1\u001b[0m\u001b[1;33m\u001b[0m\u001b[1;33m\u001b[0m\u001b[0m\n\u001b[1;32m----> 7\u001b[1;33m         \u001b[1;32mwhile\u001b[0m \u001b[0melements\u001b[0m\u001b[1;33m[\u001b[0m\u001b[0mend\u001b[0m\u001b[1;33m]\u001b[0m \u001b[1;33m>\u001b[0m \u001b[0mpivot\u001b[0m\u001b[1;33m:\u001b[0m\u001b[1;33m\u001b[0m\u001b[1;33m\u001b[0m\u001b[0m\n\u001b[0m\u001b[0;32m      8\u001b[0m             \u001b[0mend\u001b[0m\u001b[1;33m-=\u001b[0m\u001b[1;36m1\u001b[0m\u001b[1;33m\u001b[0m\u001b[1;33m\u001b[0m\u001b[0m\n\u001b[0;32m      9\u001b[0m         \u001b[1;32mif\u001b[0m \u001b[0mstart\u001b[0m\u001b[1;33m<\u001b[0m\u001b[0mend\u001b[0m\u001b[1;33m:\u001b[0m\u001b[1;33m\u001b[0m\u001b[1;33m\u001b[0m\u001b[0m\n",
      "\u001b[1;31mIndexError\u001b[0m: list index out of range"
     ]
    }
   ],
   "source": [
    "elements=[11,9,29,7,2,15,28]\n",
    "quickSort(elements,0,len(elements))"
   ]
  },
  {
   "cell_type": "code",
   "execution_count": 46,
   "metadata": {},
   "outputs": [],
   "source": [
    "#######################\n",
    "#Binary Search \n",
    "########################\n"
   ]
  },
  {
   "cell_type": "code",
   "execution_count": 73,
   "metadata": {},
   "outputs": [],
   "source": [
    "def linear_search(number_list,number_to_find):\n",
    "    for index,element in enumerate(number_list):\n",
    "        if element == number_to_find:\n",
    "            return index\n",
    "    return -1"
   ]
  },
  {
   "cell_type": "code",
   "execution_count": 94,
   "metadata": {},
   "outputs": [],
   "source": [
    "def binary_search(number_list,number_to_find):\n",
    "    left_index=0\n",
    "    right_index=len(number_list)\n",
    "    middle_index=0\n",
    "    while left_index <= right_index:\n",
    "        middle_index = (left_index+right_index)//2\n",
    "        middle_number=number_list[middle_index]\n",
    "        \n",
    "        if middle_number == number_to_find:\n",
    "            return middle_index\n",
    "        \n",
    "        if middle_number < number_to_find:\n",
    "            left_index=middle_index+1\n",
    "        else:\n",
    "            right_index=middle_index-1\n",
    "    return -1"
   ]
  },
  {
   "cell_type": "code",
   "execution_count": 95,
   "metadata": {},
   "outputs": [],
   "source": [
    "def binary_search_recursive(number_list,number_to_find,left_index,right_index):\n",
    "    middle_index = (left_index+right_index)//2\n",
    "    middle_number=number_list[middle_index]\n",
    "    if middle_number == number_to_find:\n",
    "        return middle_index \n",
    "    if middle_number < number_to_find:\n",
    "        left_index=middle_index+1\n",
    "    else:\n",
    "        right_index=middle_index-1\n",
    "    return binary_search_recursive(number_list,number_to_find,left_index,right_index)"
   ]
  },
  {
   "cell_type": "code",
   "execution_count": 99,
   "metadata": {},
   "outputs": [
    {
     "name": "stdout",
     "output_type": "stream",
     "text": [
      "number found at 5 using linear search\n",
      "number found at 5 using binary search\n",
      "number found at 5 using binary search recursive \n"
     ]
    }
   ],
   "source": [
    "number_list=[12,15,17,19,21,24,45,67]\n",
    "number_to_find=24\n",
    "index = linear_search(number_list,number_to_find)\n",
    "print(f\"number found at {index} using linear search\")\n",
    "index = binary_search(number_list,number_to_find)\n",
    "print(f\"number found at {index} using binary search\")\n",
    "index = binary_search_recursive(number_list,number_to_find,0,len(number_list))\n",
    "print(f\"number found at {index} using binary search recursive \")\n"
   ]
  },
  {
   "cell_type": "code",
   "execution_count": null,
   "metadata": {},
   "outputs": [],
   "source": [
    "##################\n",
    "##Sorting \n",
    "#################"
   ]
  },
  {
   "cell_type": "code",
   "execution_count": 122,
   "metadata": {},
   "outputs": [],
   "source": [
    "#Bubble Sort\n",
    "def bubble_sort(elements):\n",
    "    size = len(elements)\n",
    "\n",
    "    for i in range(size-1):\n",
    "        swapped = False\n",
    "        for j in range(size-1-i):\n",
    "            if elements[j] > elements[j+1]:\n",
    "                tmp = elements[j]\n",
    "                elements[j] = elements[j+1]\n",
    "                elements[j+1] = tmp\n",
    "                swapped = True\n",
    "\n",
    "        if not swapped:\n",
    "            break\n",
    "    \n",
    "    "
   ]
  },
  {
   "cell_type": "code",
   "execution_count": 123,
   "metadata": {},
   "outputs": [
    {
     "name": "stdout",
     "output_type": "stream",
     "text": [
      "[12, 15, 17, 19, 21, 24, 45, 67]\n"
     ]
    }
   ],
   "source": [
    "elements=[67,45,17,21,19,24,15,12]\n",
    "bubble_sort(elements)\n",
    "print(elements)"
   ]
  },
  {
   "cell_type": "code",
   "execution_count": null,
   "metadata": {},
   "outputs": [],
   "source": [
    "#Quick Sort\n"
   ]
  },
  {
   "cell_type": "code",
   "execution_count": null,
   "metadata": {},
   "outputs": [],
   "source": [
    "def quick_sort()"
   ]
  },
  {
   "cell_type": "code",
   "execution_count": null,
   "metadata": {},
   "outputs": [],
   "source": []
  },
  {
   "cell_type": "code",
   "execution_count": 124,
   "metadata": {},
   "outputs": [],
   "source": []
  },
  {
   "cell_type": "code",
   "execution_count": null,
   "metadata": {},
   "outputs": [],
   "source": [
    "def partition(elements,start,end):\n",
    "    pivot_index=start\n",
    "    pivot=elements[pivot_index]\n",
    "    while "
   ]
  },
  {
   "cell_type": "code",
   "execution_count": 125,
   "metadata": {},
   "outputs": [
    {
     "ename": "NameError",
     "evalue": "name 'quick_sort' is not defined",
     "output_type": "error",
     "traceback": [
      "\u001b[1;31m---------------------------------------------------------------------------\u001b[0m",
      "\u001b[1;31mNameError\u001b[0m                                 Traceback (most recent call last)",
      "\u001b[1;32m<ipython-input-125-4865f4846f18>\u001b[0m in \u001b[0;36m<module>\u001b[1;34m\u001b[0m\n\u001b[0;32m      1\u001b[0m \u001b[0melements\u001b[0m\u001b[1;33m=\u001b[0m\u001b[1;33m[\u001b[0m\u001b[1;36m11\u001b[0m\u001b[1;33m,\u001b[0m\u001b[1;36m9\u001b[0m\u001b[1;33m,\u001b[0m\u001b[1;36m29\u001b[0m\u001b[1;33m,\u001b[0m\u001b[1;36m7\u001b[0m\u001b[1;33m,\u001b[0m\u001b[1;36m2\u001b[0m\u001b[1;33m,\u001b[0m\u001b[1;36m15\u001b[0m\u001b[1;33m,\u001b[0m\u001b[1;36m28\u001b[0m\u001b[1;33m]\u001b[0m\u001b[1;33m\u001b[0m\u001b[1;33m\u001b[0m\u001b[0m\n\u001b[1;32m----> 2\u001b[1;33m \u001b[0mquick_sort\u001b[0m\u001b[1;33m(\u001b[0m\u001b[0melements\u001b[0m\u001b[1;33m,\u001b[0m\u001b[1;36m0\u001b[0m\u001b[1;33m,\u001b[0m\u001b[0mlen\u001b[0m\u001b[1;33m(\u001b[0m\u001b[0melements\u001b[0m\u001b[1;33m)\u001b[0m\u001b[1;33m)\u001b[0m\u001b[1;33m\u001b[0m\u001b[1;33m\u001b[0m\u001b[0m\n\u001b[0m",
      "\u001b[1;31mNameError\u001b[0m: name 'quick_sort' is not defined"
     ]
    }
   ],
   "source": [
    "elements=[11,9,29,7,2,15,28]\n",
    "quick_sort(elements,0,len(elements))"
   ]
  },
  {
   "cell_type": "code",
   "execution_count": 1,
   "metadata": {},
   "outputs": [
    {
     "data": {
      "text/plain": [
       "'1. apache airflow\\n2. Dataframe API functions - SQL and Spark functions aggregate ,avg ,duplicate window functions - withcolum \\n  absurd in hive , different joins . dropping and adding columns - all operators usage\\n  partitions -increase and decrease coalece\\n3. Memory  management drivermemory and executor memory\\n 10nodes \\n 64RAM\\n 16 core\\n4. AWS - what kind of Datapipes you have build - Techstack behind each process\\n5. absurd in hive update and insert \\n10 columns and additional 5 columns came and how to update \\nhow to wr - manage and external tables\\n6. python questions  - string questions - pipe separated and with , separated \\n7. Athena and Redshift \\n8. Normalized and denormalized tables use case \\n9. usecases for aws services , Saving EMR usages\\n10\\n\\nspark sql -\\ncache persist\\nbraoadcast\\nstaic dynamic\\n'"
      ]
     },
     "execution_count": 1,
     "metadata": {},
     "output_type": "execute_result"
    }
   ],
   "source": [
    "\"\"\"1. apache airflow\n",
    "2. Dataframe API functions - SQL and Spark functions aggregate ,avg ,duplicate window functions - withcolum \n",
    "  absurd in hive , different joins . dropping and adding columns - all operators usage\n",
    "  partitions -increase and decrease coalece\n",
    "3. Memory  management drivermemory and executor memory\n",
    " 10nodes \n",
    " 64RAM\n",
    " 16 core\n",
    "4. AWS - what kind of Datapipes you have build - Techstack behind each process\n",
    "5. absurd in hive update and insert \n",
    "10 columns and additional 5 columns came and how to update \n",
    "how to wr - manage and external tables\n",
    "6. python questions  - string questions - pipe separated and with , separated \n",
    "7. Athena and Redshift \n",
    "8. Normalized and denormalized tables use case \n",
    "9. usecases for aws services , Saving EMR usages\n",
    "10\n",
    "\n",
    "spark sql -\n",
    "cache persist\n",
    "braoadcast\n",
    "staic dynamic\n",
    "\"\"\""
   ]
  },
  {
   "cell_type": "code",
   "execution_count": null,
   "metadata": {},
   "outputs": [],
   "source": [
    "\"\"\"1. How to chaoose No of Executors and Memory?\n",
    "----------------------------------------------------------------------\n",
    "Resources we have\n",
    "6 machines\n",
    "16 cores(Total Cores in the cluster =16*6=96)\n",
    "64GB RAM per machine\n",
    "\n",
    "A)\n",
    "Executor and Executor Core\n",
    "No fo cores = 96 - no of machines =90\n",
    "No of cores per machine = 90/6 =15\n",
    "No of executor cores = 5\n",
    "so total no of executors per machine :15/5=3\n",
    "\n",
    "Memory\n",
    "Available per machine :63 GB\n",
    "Available per executor :63/3=21GB\n",
    "yarn over head =2GB\n",
    "per Executor memory: 19GB\n",
    "\n",
    "----------------------------------------------------------------------\n",
    "2. What is the difference between Avro vs Parquet?\n",
    "\n",
    "----------------------------------------------------------------------\n",
    "3. Repartition Vs Coalesce?\n",
    "\n",
    "Can Increase and decrease the     Used to decrease the number of paritions\n",
    "number of paritions \n",
    "Does not worry about amount of    Tries to avoid shuffle\n",
    "shuffle \n",
    "Slower than coalesce              Better performance than repartition\n",
    "Ties to create a partitions       Ouput partition can be uneven in size\n",
    "of similar size \n",
    "----------------------------------------------------------------------\n",
    "4.  Partition vs Bucketing \n",
    "\n",
    "\n",
    "----------------------------------------------------------------------\n",
    "5. Scala Vs Python\n",
    "Performance - scala wins\n",
    "Enterprise -Scala wins \n",
    "Learning Curve - Python - Lower learning curve for python \n",
    "Machine learning Libraries - Python\n",
    "Type Safety - Datasets are type safe scala wins \n",
    "Visualization Libraries - Python is mature(Very good ide called jupyter notebooks)\n",
    "\n",
    "\n",
    "if your project is Datascience -Pythton\n",
    "If you project is java shop - Scala\n",
    "----------------------------------------------------------------------\n",
    "6. What is the difference b/w RDD, Dataframe and Datasets?\n",
    "\n",
    "RDD\n",
    "-Type Safe\n",
    "-Developer has to take care of optimizations\n",
    "-Not as good as datasets in performance\n",
    "-not memory efficient\n",
    "Dataframe\n",
    "-Not type safe\n",
    "-Auto Optimisation using Catalyst optimizer \n",
    "-Performance not good as datasets\n",
    "-Not memory efficient\n",
    "Datasets\n",
    "-Type Safe\n",
    "-Auto Optimized\n",
    "-Better performance\n",
    "-More memory efficient\n",
    "\n",
    "when to use Dataframe and Dataset?\n",
    "Dataframe is \n",
    "1. Immutable Table\n",
    "2. Collection of generic row objects\n",
    "3. Not type safe - No error at compile time only at runtime we get error if access column which doesnot exists\n",
    "4. Introduced to simplify processing on RDD\n",
    "Dataset is a \n",
    "collection of strongly typed objects\n",
    "\n",
    "Understand Type Safety\n",
    "TypeofError     SQL       Dataframe      Dataset\n",
    "Syntax Error    Runtime   compile TIme   Compile Time\n",
    "Analysis Error  Runtime   Runtime        Compile Time\n",
    "\n",
    "use Dataset when \n",
    "---------------\n",
    "1. You need type Safety\n",
    "2. You need SQL+Functional Programming Constructs like map(),mapPartition(),aggregate,reduce etc\n",
    "3. You need lambda functions\n",
    "4. Want Catalyst Optimisationa and Tungsten's efficient code generation\n",
    "5. Want more efficient memory usage using Encoders.\n",
    "\n",
    "Use Dataframe When\n",
    "-------------------\n",
    "1. You use Python or R\n",
    "2. Don't need strong type safety and most of operations will be defined using SQL\n",
    "3. No need for lambda expressions\n",
    "\n",
    "----------------------------------------------------------------------\n",
    "7. Spark Dynamic Resource Allocation?\n",
    "By default it is disabled\n",
    "\n",
    "if you enable Dynamic Resource Allocation, External shuffle service should be enabled\n",
    "data tranfer from one machine to other machine this process is called shuffle process\n",
    "\n",
    "set properties-\n",
    "spark.dynamicAllocation.enabled\n",
    "spark.shuffle.service.enabled\n",
    "spark.dynamicallocation.SchedulerBacklogTimeout\n",
    "spark.dynamicAllocation.executorIdleTimeout\n",
    "spark.shuffle.service.port\n",
    "\n",
    "\n",
    "----------------------------------------------------------------------\n",
    "\n",
    "8.Difference between Driver and Executor?\n",
    "Driver - Main function\n",
    "ships the logic to workers\n",
    "\n",
    "----------------------------------------------------------------------\n",
    "10 ways to to improve spark performance\n",
    "----------------------------------------------------------------------\n",
    "-use right file format\n",
    "-for analysis kind og \n",
    "\n",
    "\n",
    "-----------------------------------------------------------------------\n",
    "ORC vs Parquet\n",
    "----------------------------------------------------------------------\n",
    "Nested data  -parquet\n",
    "Predicate pushdown efficiency  - orc\n",
    " Min Max+Bloomfilters\n",
    "ACID support  - orc\n",
    "orc is more compresssion efficient\n",
    "parquet is more industry used format\n",
    "Both are columnar format\n",
    "Both gives performance boost\n",
    "\n",
    "\n",
    "-----------------------------------------------------------------------\n",
    "spark out of memory issue\n",
    "----------------------------------------------------------------------\n",
    "1. Driver memory issue\n",
    " a)collection\n",
    " b)Broadcast Huge data\n",
    "2. Executor out of memory \n",
    " a) Big partition\n",
    " b) Yarn Memory overhead\n",
    " c) High concurrency\n",
    "\n",
    "\n",
    "\n",
    "scala:\n",
    "1. case classe\n",
    "\n",
    "\n",
    "Hive \n",
    "1. static and dynamic partition\n",
    "\n",
    "spark\n",
    "1. how to \n",
    "\n",
    "-----------------------------------------------\n",
    "10 ways to improve spark performance:\n",
    "----------------------------------------------------\n",
    "1. tree reduce over reducebykey or aggregate by key\n",
    "2. \n",
    "\n",
    "\n",
    "Covid declaration form\n",
    "\n",
    "\n",
    "\n",
    "Spark performance tuning:\n",
    "--------------------------------\n",
    "--------------------------------\n",
    "https://spoddutur.github.io/spark-notes/distribution_of_executors_cores_and_memory_for_spark_application.html#:~:text=Number%20of%20available%20executors%20%3D%20(total,executor%20%3D%2064GB%2F3%20%3D%2021GB\n",
    "\n",
    "\n",
    "\"\"\""
   ]
  }
 ],
 "metadata": {
  "kernelspec": {
   "display_name": "Python 3",
   "language": "python",
   "name": "python3"
  },
  "language_info": {
   "codemirror_mode": {
    "name": "ipython",
    "version": 3
   },
   "file_extension": ".py",
   "mimetype": "text/x-python",
   "name": "python",
   "nbconvert_exporter": "python",
   "pygments_lexer": "ipython3",
   "version": "3.8.3"
  }
 },
 "nbformat": 4,
 "nbformat_minor": 4
}
